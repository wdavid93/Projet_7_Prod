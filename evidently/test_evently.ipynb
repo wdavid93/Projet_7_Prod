{
 "cells": [
  {
   "cell_type": "code",
   "execution_count": 7,
   "metadata": {},
   "outputs": [
    {
     "ename": "AttributeError",
     "evalue": "module 'evidently' has no attribute 'DataDriftTab'",
     "output_type": "error",
     "traceback": [
      "\u001b[1;31m---------------------------------------------------------------------------\u001b[0m",
      "\u001b[1;31mAttributeError\u001b[0m                            Traceback (most recent call last)",
      "Cell \u001b[1;32mIn[7], line 26\u001b[0m\n\u001b[0;32m     23\u001b[0m df_reference \u001b[38;5;241m=\u001b[39m data_train\n\u001b[0;32m     25\u001b[0m \u001b[38;5;66;03m# Créer une instance de la classe DataDriftTab\u001b[39;00m\n\u001b[1;32m---> 26\u001b[0m data_drift_tab \u001b[38;5;241m=\u001b[39m \u001b[43me\u001b[49m\u001b[38;5;241;43m.\u001b[39;49m\u001b[43mDataDriftTab\u001b[49m(df_reference, df, task\u001b[38;5;241m=\u001b[39m\u001b[38;5;124m'\u001b[39m\u001b[38;5;124mclassification\u001b[39m\u001b[38;5;124m'\u001b[39m)\n\u001b[0;32m     28\u001b[0m \u001b[38;5;66;03m# Créer un tableau de bord Evidently avec le tab Data Drift\u001b[39;00m\n\u001b[0;32m     29\u001b[0m dashboard \u001b[38;5;241m=\u001b[39m Dashboard(tabs\u001b[38;5;241m=\u001b[39m[data_drift_tab])\n",
      "\u001b[1;31mAttributeError\u001b[0m: module 'evidently' has no attribute 'DataDriftTab'"
     ]
    }
   ],
   "source": [
    "import pandas as pd\n",
    "import numpy as np\n",
    "import evidently as e\n",
    "\n",
    "# from evidently.dashboard import Dashboard\n",
    "# from evidently.dashboard.tabs import ProbClassificationPerformanceTab\n",
    "# from evidently.pipeline.column_mapping import ColumnMapping\n",
    "    # df_json_train = requests.get(URL_API + \"shap_xgb_df\")\n",
    "    # data_train_e = pd.DataFrame.from_dict(df_json_train.json())    \n",
    "    # df_test = requests.get(URL_API + \"load_df_test\")\n",
    "    # data_test_e = pd.DataFrame.from_dict(df_test.json())\n",
    "    # On charge les données\n",
    "data_train = pd.read_csv(\"api_docker/application_train.zip\")\n",
    "data_test = pd.read_csv(\"api_docker/application_test.zip\")\n",
    "# Créer un DataFrame contenant une colonne pour identifier les données d'entraînement et de test\n",
    "data_train['dataset'] = 'train'\n",
    "data_test['dataset'] = 'test'\n",
    "\n",
    "# Concaténer les données d'entraînement et de test\n",
    "df = pd.concat([data_train, data_test])\n",
    "\n",
    "# Créer un DataFrame de référence (données d'entraînement)\n",
    "df_reference = data_train\n",
    "\n",
    "# Créer une instance de la classe DataDriftTab\n",
    "data_drift_tab = eDataDriftTab(df_reference, df, task='classification')\n",
    "\n",
    "# Créer un tableau de bord Evidently avec le tab Data Drift\n",
    "dashboard = Dashboard(tabs=[data_drift_tab])\n",
    "\n",
    "# Générer le rapport Evidently\n",
    "report = dashboard.run()\n",
    "\n",
    "# Afficher le rapport Evidently\n",
    "report.show()\n",
    "\n",
    "dashboard = Dashboard(tabs=[ProbClassificationPerformanceTab()])\n",
    "dashboard.calculate(rf_merged_train, rf_merged_test, column_mapping = column_mapping)\n",
    "dashboard.show()"
   ]
  },
  {
   "cell_type": "code",
   "execution_count": 3,
   "metadata": {},
   "outputs": [
    {
     "name": "stdout",
     "output_type": "stream",
     "text": [
      "Name: evidently\n",
      "Version: 0.4.8\n",
      "Summary: Open-source tools to analyze, monitor, and debug machine learning model in production.\n",
      "Home-page: https://github.com/evidentlyai/evidently\n",
      "Author: Emeli Dral\n",
      "Author-email: emeli.dral@gmail.com\n",
      "License: UNKNOWN\n",
      "Location: C:\\Users\\Zbook\\AppData\\Roaming\\Python\\Python311\\site-packages\n",
      "Requires: fastapi, fastapi-restful, iterative-telemetry, nltk, numpy, pandas, plotly, pyarrow, pydantic, PyYAML, requests, rich, scikit-learn, scipy, statsmodels, typer, typing-inspect, uvicorn, watchdog\n",
      "Required-by: \n",
      "Note: you may need to restart the kernel to use updated packages.\n"
     ]
    }
   ],
   "source": [
    "# %pip install evidently\n",
    "%pip show evidently\n"
   ]
  },
  {
   "cell_type": "code",
   "execution_count": 1,
   "metadata": {},
   "outputs": [
    {
     "ename": "ModuleNotFoundError",
     "evalue": "No module named 'evidently.dashboard'",
     "output_type": "error",
     "traceback": [
      "\u001b[1;31m---------------------------------------------------------------------------\u001b[0m",
      "\u001b[1;31mModuleNotFoundError\u001b[0m                       Traceback (most recent call last)",
      "Cell \u001b[1;32mIn[1], line 4\u001b[0m\n\u001b[0;32m      2\u001b[0m \u001b[38;5;28;01mimport\u001b[39;00m \u001b[38;5;21;01mnumpy\u001b[39;00m \u001b[38;5;28;01mas\u001b[39;00m \u001b[38;5;21;01mnp\u001b[39;00m\n\u001b[0;32m      3\u001b[0m \u001b[38;5;28;01mimport\u001b[39;00m \u001b[38;5;21;01mevidently\u001b[39;00m \u001b[38;5;28;01mas\u001b[39;00m \u001b[38;5;21;01me\u001b[39;00m\n\u001b[1;32m----> 4\u001b[0m \u001b[38;5;28;01mfrom\u001b[39;00m \u001b[38;5;21;01mevidently\u001b[39;00m\u001b[38;5;21;01m.\u001b[39;00m\u001b[38;5;21;01mdashboard\u001b[39;00m \u001b[38;5;28;01mimport\u001b[39;00m Dashboard\n\u001b[0;32m      5\u001b[0m \u001b[38;5;28;01mfrom\u001b[39;00m \u001b[38;5;21;01mevidently\u001b[39;00m\u001b[38;5;21;01m.\u001b[39;00m\u001b[38;5;21;01mdashboard\u001b[39;00m\u001b[38;5;21;01m.\u001b[39;00m\u001b[38;5;21;01mtabs\u001b[39;00m \u001b[38;5;28;01mimport\u001b[39;00m DataDriftTab\n\u001b[0;32m      6\u001b[0m \u001b[38;5;28;01mfrom\u001b[39;00m \u001b[38;5;21;01mevidently\u001b[39;00m\u001b[38;5;21;01m.\u001b[39;00m\u001b[38;5;21;01mpipeline\u001b[39;00m\u001b[38;5;21;01m.\u001b[39;00m\u001b[38;5;21;01mcolumn_mapping\u001b[39;00m \u001b[38;5;28;01mimport\u001b[39;00m ColumnMapping\n",
      "\u001b[1;31mModuleNotFoundError\u001b[0m: No module named 'evidently.dashboard'"
     ]
    }
   ],
   "source": [
    "import pandas as pd\n",
    "import numpy as np\n",
    "import evidently as e\n",
    "from evidently.dashboard import Dashboard\n",
    "from evidently.dashboard.tabs import DataDriftTab\n",
    "from evidently.pipeline.column_mapping import ColumnMapping\n",
    "\n",
    "# Charger les données\n",
    "data_train = pd.read_csv(\"api_docker/application_train.zip\")\n",
    "data_test = pd.read_csv(\"api_docker/application_test.zip\")\n",
    "\n",
    "# Créer un DataFrame contenant une colonne pour identifier les données d'entraînement et de test\n",
    "data_train['dataset'] = 'train'\n",
    "data_test['dataset'] = 'test'\n",
    "\n",
    "# Concaténer les données d'entraînement et de test\n",
    "df = pd.concat([data_train, data_test])\n",
    "\n",
    "# Créer un DataFrame de référence (données d'entraînement)\n",
    "df_reference = data_train\n",
    "\n",
    "# Créer une instance de la classe DataDriftTab\n",
    "data_drift_tab = DataDriftTab(df_reference, df, task='classification')\n",
    "\n",
    "# Créer un tableau de bord Evidently avec le tab Data Drift\n",
    "dashboard = Dashboard(tabs=[data_drift_tab])\n",
    "\n",
    "# Générer le rapport Evidently\n",
    "report = dashboard.run()\n",
    "\n",
    "# Afficher le rapport Evidently\n",
    "report.show()\n"
   ]
  },
  {
   "cell_type": "code",
   "execution_count": 9,
   "metadata": {},
   "outputs": [
    {
     "name": "stdout",
     "output_type": "stream",
     "text": [
      "Collecting git+https://github.com/evidentlyai/evidently.git\n",
      "  Cloning https://github.com/evidentlyai/evidently.git to c:\\users\\zbook\\appdata\\local\\temp\\pip-req-build-ydz7lq58\n",
      "  Resolved https://github.com/evidentlyai/evidently.git to commit 5d360075cee0836456cd8a4d24ebad9f1a33bb9a\n",
      "  Preparing metadata (setup.py): started\n",
      "  Preparing metadata (setup.py): finished with status 'done'\n",
      "Requirement already satisfied: plotly>=5.5.0 in c:\\users\\zbook\\.conda\\envs\\myenvtest\\lib\\site-packages (from evidently==0.4.8) (5.18.0)\n",
      "Requirement already satisfied: statsmodels>=0.12.2 in c:\\users\\zbook\\appdata\\roaming\\python\\python39\\site-packages (from evidently==0.4.8) (0.14.0)\n",
      "Requirement already satisfied: scikit-learn>=0.24.0 in c:\\users\\zbook\\appdata\\roaming\\python\\python39\\site-packages (from evidently==0.4.8) (1.3.1)\n",
      "Requirement already satisfied: pandas>=1.3.5 in c:\\users\\zbook\\.conda\\envs\\myenvtest\\lib\\site-packages (from evidently==0.4.8) (2.1.1)\n",
      "Requirement already satisfied: numpy>=1.19.5 in c:\\users\\zbook\\appdata\\roaming\\python\\python39\\site-packages (from evidently==0.4.8) (1.24.3)\n",
      "Requirement already satisfied: nltk>=3.6.7 in c:\\users\\zbook\\.conda\\envs\\myenvtest\\lib\\site-packages (from evidently==0.4.8) (3.8.1)\n",
      "Requirement already satisfied: scipy>=1.5.4 in c:\\users\\zbook\\.conda\\envs\\myenvtest\\lib\\site-packages (from evidently==0.4.8) (1.11.3)\n",
      "Requirement already satisfied: requests>=2.21.0 in c:\\users\\zbook\\.conda\\envs\\myenvtest\\lib\\site-packages (from evidently==0.4.8) (2.31.0)\n",
      "Requirement already satisfied: PyYAML>=5.1 in c:\\users\\zbook\\.conda\\envs\\myenvtest\\lib\\site-packages (from evidently==0.4.8) (6.0)\n",
      "Requirement already satisfied: pydantic<2 in c:\\users\\zbook\\.conda\\envs\\myenvtest\\lib\\site-packages (from evidently==0.4.8) (1.10.12)\n",
      "Requirement already satisfied: fastapi>=0.100.0 in c:\\users\\zbook\\.conda\\envs\\myenvtest\\lib\\site-packages (from evidently==0.4.8) (0.104.1)\n",
      "Requirement already satisfied: fastapi-restful>=0.5.0 in c:\\users\\zbook\\.conda\\envs\\myenvtest\\lib\\site-packages (from evidently==0.4.8) (0.5.0)\n",
      "Requirement already satisfied: typing-inspect>=0.9.0 in c:\\users\\zbook\\.conda\\envs\\myenvtest\\lib\\site-packages (from evidently==0.4.8) (0.9.0)\n",
      "Requirement already satisfied: uvicorn>=0.22.0 in c:\\users\\zbook\\.conda\\envs\\myenvtest\\lib\\site-packages (from evidently==0.4.8) (0.23.2)\n",
      "Requirement already satisfied: watchdog>=3 in c:\\users\\zbook\\.conda\\envs\\myenvtest\\lib\\site-packages (from evidently==0.4.8) (3.0.0)\n",
      "Requirement already satisfied: typer>=0.3 in c:\\users\\zbook\\.conda\\envs\\myenvtest\\lib\\site-packages (from evidently==0.4.8) (0.9.0)\n",
      "Requirement already satisfied: rich>=13 in c:\\users\\zbook\\.conda\\envs\\myenvtest\\lib\\site-packages (from evidently==0.4.8) (13.6.0)\n",
      "Requirement already satisfied: iterative-telemetry>=0.0.5 in c:\\users\\zbook\\.conda\\envs\\myenvtest\\lib\\site-packages (from evidently==0.4.8) (0.0.8)\n",
      "Requirement already satisfied: pyarrow<11.0dev in c:\\users\\zbook\\.conda\\envs\\myenvtest\\lib\\site-packages (from evidently==0.4.8) (10.0.1)\n",
      "Requirement already satisfied: anyio<4.0.0,>=3.7.1 in c:\\users\\zbook\\.conda\\envs\\myenvtest\\lib\\site-packages (from fastapi>=0.100.0->evidently==0.4.8) (3.7.1)\n",
      "Requirement already satisfied: starlette<0.28.0,>=0.27.0 in c:\\users\\zbook\\.conda\\envs\\myenvtest\\lib\\site-packages (from fastapi>=0.100.0->evidently==0.4.8) (0.27.0)\n",
      "Requirement already satisfied: typing-extensions>=4.8.0 in c:\\users\\zbook\\.conda\\envs\\myenvtest\\lib\\site-packages (from fastapi>=0.100.0->evidently==0.4.8) (4.8.0)\n",
      "Requirement already satisfied: psutil<6,>=5 in c:\\users\\zbook\\.conda\\envs\\myenvtest\\lib\\site-packages (from fastapi-restful>=0.5.0->evidently==0.4.8) (5.9.0)\n",
      "Requirement already satisfied: appdirs in c:\\users\\zbook\\.conda\\envs\\myenvtest\\lib\\site-packages (from iterative-telemetry>=0.0.5->evidently==0.4.8) (1.4.4)\n",
      "Requirement already satisfied: filelock in c:\\users\\zbook\\appdata\\roaming\\python\\python39\\site-packages (from iterative-telemetry>=0.0.5->evidently==0.4.8) (3.12.4)\n",
      "Requirement already satisfied: distro in c:\\users\\zbook\\.conda\\envs\\myenvtest\\lib\\site-packages (from iterative-telemetry>=0.0.5->evidently==0.4.8) (1.8.0)\n",
      "Requirement already satisfied: click in c:\\users\\zbook\\.conda\\envs\\myenvtest\\lib\\site-packages (from nltk>=3.6.7->evidently==0.4.8) (8.1.7)\n",
      "Requirement already satisfied: joblib in c:\\users\\zbook\\appdata\\roaming\\python\\python39\\site-packages (from nltk>=3.6.7->evidently==0.4.8) (1.2.0)\n",
      "Requirement already satisfied: regex>=2021.8.3 in c:\\users\\zbook\\.conda\\envs\\myenvtest\\lib\\site-packages (from nltk>=3.6.7->evidently==0.4.8) (2023.10.3)\n",
      "Requirement already satisfied: tqdm in c:\\users\\zbook\\.conda\\envs\\myenvtest\\lib\\site-packages (from nltk>=3.6.7->evidently==0.4.8) (4.66.1)\n",
      "Requirement already satisfied: python-dateutil>=2.8.2 in c:\\users\\zbook\\.conda\\envs\\myenvtest\\lib\\site-packages (from pandas>=1.3.5->evidently==0.4.8) (2.8.2)\n",
      "Requirement already satisfied: pytz>=2020.1 in c:\\users\\zbook\\.conda\\envs\\myenvtest\\lib\\site-packages (from pandas>=1.3.5->evidently==0.4.8) (2023.3.post1)\n",
      "Requirement already satisfied: tzdata>=2022.1 in c:\\users\\zbook\\appdata\\roaming\\python\\python39\\site-packages (from pandas>=1.3.5->evidently==0.4.8) (2023.3)\n",
      "Requirement already satisfied: tenacity>=6.2.0 in c:\\users\\zbook\\.conda\\envs\\myenvtest\\lib\\site-packages (from plotly>=5.5.0->evidently==0.4.8) (8.2.3)\n",
      "Requirement already satisfied: packaging in c:\\users\\zbook\\.conda\\envs\\myenvtest\\lib\\site-packages (from plotly>=5.5.0->evidently==0.4.8) (23.2)\n",
      "Requirement already satisfied: charset-normalizer<4,>=2 in c:\\users\\zbook\\.conda\\envs\\myenvtest\\lib\\site-packages (from requests>=2.21.0->evidently==0.4.8) (3.3.2)\n",
      "Requirement already satisfied: idna<4,>=2.5 in c:\\users\\zbook\\.conda\\envs\\myenvtest\\lib\\site-packages (from requests>=2.21.0->evidently==0.4.8) (3.4)\n",
      "Requirement already satisfied: urllib3<3,>=1.21.1 in c:\\users\\zbook\\.conda\\envs\\myenvtest\\lib\\site-packages (from requests>=2.21.0->evidently==0.4.8) (1.26.18)\n",
      "Requirement already satisfied: certifi>=2017.4.17 in c:\\users\\zbook\\.conda\\envs\\myenvtest\\lib\\site-packages (from requests>=2.21.0->evidently==0.4.8) (2023.7.22)\n",
      "Requirement already satisfied: markdown-it-py>=2.2.0 in c:\\users\\zbook\\.conda\\envs\\myenvtest\\lib\\site-packages (from rich>=13->evidently==0.4.8) (3.0.0)\n",
      "Requirement already satisfied: pygments<3.0.0,>=2.13.0 in c:\\users\\zbook\\.conda\\envs\\myenvtest\\lib\\site-packages (from rich>=13->evidently==0.4.8) (2.16.1)\n",
      "Requirement already satisfied: threadpoolctl>=2.0.0 in c:\\users\\zbook\\.conda\\envs\\myenvtest\\lib\\site-packages (from scikit-learn>=0.24.0->evidently==0.4.8) (3.2.0)\n",
      "Requirement already satisfied: patsy>=0.5.2 in c:\\users\\zbook\\.conda\\envs\\myenvtest\\lib\\site-packages (from statsmodels>=0.12.2->evidently==0.4.8) (0.5.3)\n",
      "Requirement already satisfied: mypy-extensions>=0.3.0 in c:\\users\\zbook\\.conda\\envs\\myenvtest\\lib\\site-packages (from typing-inspect>=0.9.0->evidently==0.4.8) (1.0.0)\n",
      "Requirement already satisfied: h11>=0.8 in c:\\users\\zbook\\appdata\\roaming\\python\\python39\\site-packages (from uvicorn>=0.22.0->evidently==0.4.8) (0.14.0)\n",
      "Requirement already satisfied: sniffio>=1.1 in c:\\users\\zbook\\.conda\\envs\\myenvtest\\lib\\site-packages (from anyio<4.0.0,>=3.7.1->fastapi>=0.100.0->evidently==0.4.8) (1.3.0)\n",
      "Requirement already satisfied: exceptiongroup in c:\\users\\zbook\\appdata\\roaming\\python\\python39\\site-packages (from anyio<4.0.0,>=3.7.1->fastapi>=0.100.0->evidently==0.4.8) (1.1.1)\n",
      "Requirement already satisfied: colorama in c:\\users\\zbook\\.conda\\envs\\myenvtest\\lib\\site-packages (from click->nltk>=3.6.7->evidently==0.4.8) (0.4.6)\n",
      "Requirement already satisfied: mdurl~=0.1 in c:\\users\\zbook\\.conda\\envs\\myenvtest\\lib\\site-packages (from markdown-it-py>=2.2.0->rich>=13->evidently==0.4.8) (0.1.0)\n",
      "Requirement already satisfied: six in c:\\users\\zbook\\appdata\\roaming\\python\\python39\\site-packages (from patsy>=0.5.2->statsmodels>=0.12.2->evidently==0.4.8) (1.15.0)\n"
     ]
    },
    {
     "name": "stderr",
     "output_type": "stream",
     "text": [
      "WARNING: Ignoring invalid distribution -rotobuf (c:\\users\\zbook\\appdata\\roaming\\python\\python39\\site-packages)\n",
      "WARNING: Ignoring invalid distribution -rotobuf (c:\\users\\zbook\\appdata\\roaming\\python\\python39\\site-packages)\n",
      "  Running command git clone --filter=blob:none --quiet https://github.com/evidentlyai/evidently.git 'C:\\Users\\Zbook\\AppData\\Local\\Temp\\pip-req-build-ydz7lq58'\n",
      "WARNING: Ignoring invalid distribution -rotobuf (c:\\users\\zbook\\appdata\\roaming\\python\\python39\\site-packages)\n",
      "WARNING: Ignoring invalid distribution -rotobuf (c:\\users\\zbook\\appdata\\roaming\\python\\python39\\site-packages)\n",
      "WARNING: Ignoring invalid distribution -rotobuf (c:\\users\\zbook\\appdata\\roaming\\python\\python39\\site-packages)\n",
      "WARNING: Ignoring invalid distribution -rotobuf (c:\\users\\zbook\\appdata\\roaming\\python\\python39\\site-packages)\n"
     ]
    }
   ],
   "source": [
    "\n",
    "    !pip install git+https://github.com/evidentlyai/evidently.git"
   ]
  },
  {
   "cell_type": "code",
   "execution_count": null,
   "metadata": {},
   "outputs": [],
   "source": []
  }
 ],
 "metadata": {
  "kernelspec": {
   "display_name": "Python 3 (ipykernel)",
   "language": "python",
   "name": "python3"
  },
  "language_info": {
   "codemirror_mode": {
    "name": "ipython",
    "version": 3
   },
   "file_extension": ".py",
   "mimetype": "text/x-python",
   "name": "python",
   "nbconvert_exporter": "python",
   "pygments_lexer": "ipython3",
   "version": "3.9.18"
  }
 },
 "nbformat": 4,
 "nbformat_minor": 2
}
